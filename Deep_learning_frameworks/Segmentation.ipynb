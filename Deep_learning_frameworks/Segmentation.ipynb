{
  "nbformat": 4,
  "nbformat_minor": 0,
  "metadata": {
    "colab": {
      "provenance": [],
      "gpuType": "T4"
    },
    "kernelspec": {
      "name": "python3",
      "display_name": "Python 3"
    },
    "language_info": {
      "name": "python"
    },
    "accelerator": "GPU"
  },
  "cells": [
    {
      "cell_type": "markdown",
      "source": [
        "#Segmentation in keras and pytorch\n",
        "Semantic segmentation is a fundamental task within computer vision which entails assigning class labels to individual pixels in an image\n",
        "\n",
        "In this notebook we will look at how to build and train a [U-Net style metwork](https://arxiv.org/abs/1505.04597) for segmentation of pets in images from the [Oxford-IIT Pet dataset](https://www.robots.ox.ac.uk/~vgg/data/pets/)"
      ],
      "metadata": {
        "id": "63HECXQV5dTj"
      }
    },
    {
      "cell_type": "markdown",
      "source": [
        "#Keras\n",
        "Unet using the Keras functional API"
      ],
      "metadata": {
        "id": "OHc3U82f522i"
      }
    },
    {
      "cell_type": "code",
      "execution_count": null,
      "metadata": {
        "id": "dVXlgruq5WX1"
      },
      "outputs": [],
      "source": [
        "from tensorflow.keras.layers import Input, Conv2D, MaxPooling2D, UpSampling2D, concatenate\n",
        "from tensorflow.keras.models import Model\n",
        "\n",
        "# Define the U-Net architecture using the Functional API\n",
        "def unet(input_shape=(256, 256, 3), num_classes=1):\n",
        "    # Input layer\n",
        "    inputs = Input(input_shape)\n",
        "\n",
        "    # Encoder\n",
        "    conv1 = Conv2D(64, 3, activation='relu', padding='same')(inputs)\n",
        "    conv1 = Conv2D(64, 3, activation='relu', padding='same')(conv1)\n",
        "    pool1 = MaxPooling2D(pool_size=(2, 2))(conv1)\n",
        "\n",
        "    conv2 = Conv2D(128, 3, activation='relu', padding='same')(pool1)\n",
        "    conv2 = Conv2D(128, 3, activation='relu', padding='same')(conv2)\n",
        "    pool2 = MaxPooling2D(pool_size=(2, 2))(conv2)\n",
        "\n",
        "    conv3 = Conv2D(256, 3, activation='relu', padding='same')(pool2)\n",
        "    conv3 = Conv2D(256, 3, activation='relu', padding='same')(conv3)\n",
        "    pool3 = MaxPooling2D(pool_size=(2, 2))(conv3)\n",
        "\n",
        "    # Bottom layer\n",
        "    conv4 = Conv2D(512, 3, activation='relu', padding='same')(pool3)\n",
        "    conv4 = Conv2D(512, 3, activation='relu', padding='same')(conv4)\n",
        "\n",
        "    # Decoder\n",
        "    up5 = UpSampling2D(size=(2, 2))(conv4)\n",
        "    up5 = concatenate([up5, conv3], axis=-1)\n",
        "    conv5 = Conv2D(256, 3, activation='relu', padding='same')(up5)\n",
        "    conv5 = Conv2D(256, 3, activation='relu', padding='same')(conv5)\n",
        "\n",
        "    up6 = UpSampling2D(size=(2, 2))(conv5)\n",
        "    up6 = concatenate([up6, conv2], axis=-1)\n",
        "    conv6 = Conv2D(128, 3, activation='relu', padding='same')(up6)\n",
        "    conv6 = Conv2D(128, 3, activation='relu', padding='same')(conv6)\n",
        "\n",
        "    up7 = UpSampling2D(size=(2, 2))(conv6)\n",
        "    up7 = concatenate([up7, conv1], axis=-1)\n",
        "    conv7 = Conv2D(64, 3, activation='relu', padding='same')(up7)\n",
        "    conv7 = Conv2D(64, 3, activation='relu', padding='same')(conv7)\n",
        "\n",
        "    # Output layer\n",
        "    output = Conv2D(num_classes, 1, activation='sigmoid')(conv7)\n",
        "\n",
        "    # Create the model\n",
        "    model = Model(inputs=inputs, outputs=output)\n",
        "\n",
        "    return model\n",
        "\n",
        "# Create a U-Net model with input shape (256, 256, 3) and one output channel\n",
        "model = unet(input_shape=(256, 256, 3), num_classes=1)\n",
        "\n",
        "# Compile the model (you can choose an appropriate optimizer and loss function for your task)\n",
        "model.compile(optimizer='adam', loss='binary_crossentropy', metrics=['accuracy'])\n",
        "\n",
        "# Print the model summary\n",
        "model.summary()"
      ]
    },
    {
      "cell_type": "markdown",
      "source": [
        "#Pytorch\n",
        "Unet using the torch nn module"
      ],
      "metadata": {
        "id": "Y5oWB9TfRugS"
      }
    },
    {
      "cell_type": "code",
      "source": [
        "import torch\n",
        "import torch.nn as nn\n",
        "from torchsummary import summary\n",
        "\n",
        "device = torch.device(\"cuda:0\" if torch.cuda.is_available() else \"cpu\")\n",
        "\n",
        "class encoder_block(nn.Module):\n",
        "    def __init__(self, in_channels, out_channels):\n",
        "        super(encoder_block, self).__init__()\n",
        "\n",
        "        self.block = nn.Sequential(\n",
        "            nn.Conv2d(in_channels, out_channels, kernel_size=3, padding=1),\n",
        "            nn.ReLU(inplace=True),\n",
        "            nn.Conv2d(out_channels, out_channels, kernel_size=3, padding=1),\n",
        "            nn.ReLU(inplace=True),\n",
        "            nn.MaxPool2d(kernel_size=2, stride=2)\n",
        "        )\n",
        "\n",
        "    def forward(self,x):\n",
        "      x = self.block(x)\n",
        "      return x\n",
        "\n",
        "class decoder_block(nn.Module):\n",
        "    def __init__(self, in_channels, out_channels):\n",
        "        super(decoder_block, self).__init__()\n",
        "        self.block = nn.Sequential(\n",
        "            nn.UpsamplingBilinear2d(scale_factor=2),\n",
        "            nn.Conv2d(in_channels, out_channels, kernel_size=3, padding=1),\n",
        "            nn.ReLU(inplace=True),\n",
        "            nn.Conv2d(out_channels, out_channels, kernel_size=3, padding=1),\n",
        "            nn.ReLU(inplace=True),\n",
        "        )\n",
        "\n",
        "\n",
        "    def forward(self,x):\n",
        "        x = self.block(x)\n",
        "        return x\n",
        "\n",
        "class UNet(nn.Module):\n",
        "    def __init__(self, in_channels, out_channels):\n",
        "        super(UNet, self).__init__()\n",
        "\n",
        "\n",
        "        self.e1 = encoder_block(in_channels,64)\n",
        "        self.e2 = encoder_block(64,128)\n",
        "        self.e3 = encoder_block(128,256)\n",
        "        self.e4 = encoder_block(256,512)\n",
        "\n",
        "\n",
        "\n",
        "        self.d1 = decoder_block(512,256)\n",
        "        self.d2 = decoder_block(512,128)\n",
        "        self.d3 = decoder_block(256,64)\n",
        "\n",
        "        self.seg_block = nn.Sequential(nn.UpsamplingBilinear2d(scale_factor=2),\n",
        "            nn.Conv2d(128,64,kernel_size=3,padding=1),\n",
        "            nn.ReLU(inplace=True),\n",
        "            nn.Conv2d(64,out_channels,kernel_size=1),\n",
        "            nn.Sigmoid())\n",
        "\n",
        "\n",
        "    def forward(self, x):\n",
        "        # Encode\n",
        "        x1 = self.e1(x)\n",
        "        x2 = self.e2(x1)\n",
        "        x3 = self.e3(x2)\n",
        "        x4 = self.e4(x3)\n",
        "\n",
        "        #decode\n",
        "        x5 = self.d1(x4)\n",
        "\n",
        "        x5 = torch.cat([x5,x3],1)\n",
        "\n",
        "        x6 = self.d2(x5)\n",
        "\n",
        "        x6 = torch.cat([x6,x2],1)\n",
        "\n",
        "        x7 = self.d3(x6)\n",
        "\n",
        "        x7 = torch.cat([x7,x1],1)\n",
        "\n",
        "        x7 = self.seg_block(x7)\n",
        "\n",
        "\n",
        "        return x7\n",
        "\n",
        "# Create a U-Net model with 3 input channels and 1 output channel\n",
        "model = UNet(in_channels=3, out_channels=1)\n",
        "\n",
        "if torch.cuda.is_available():\n",
        "    model.cuda()\n",
        "# Print the model summary\n",
        "#\n",
        "print(summary(model,(3,256,256),1))\n"
      ],
      "metadata": {
        "id": "up435c1iRv7g"
      },
      "execution_count": null,
      "outputs": []
    },
    {
      "cell_type": "markdown",
      "source": [
        "#Training a Keras model"
      ],
      "metadata": {
        "id": "p_NeVbkndHmS"
      }
    },
    {
      "cell_type": "markdown",
      "source": [
        "This tutorial uses a U-Net like architecture for image segmentation. Data processing and augmentations are implemented with KerasCV.\n",
        "\n",
        "U-Net was introduced in the paper, [U-Net: Convolutional Networks for Biomedical Image Segmentation.](https://arxiv.org/abs/1505.04597)\n",
        "\n",
        "First let's set up install and imports of the dependencies.\n",
        "\n",
        "To run this tutorial, you will need to install keras-cv with the following command: pip install keras-cv"
      ],
      "metadata": {
        "id": "eure1_lWdOjq"
      }
    },
    {
      "cell_type": "code",
      "source": [
        "%pip install keras-cv"
      ],
      "metadata": {
        "id": "3HuUYHXdfcdJ"
      },
      "execution_count": null,
      "outputs": []
    },
    {
      "cell_type": "code",
      "source": [
        "import tensorflow as tf\n",
        "from tensorflow import keras\n",
        "\n",
        "import random\n",
        "import keras_cv\n",
        "import numpy as np\n",
        "import tensorflow as tf\n",
        "import tensorflow_datasets as tfds\n",
        "from matplotlib import pyplot as plt\n"
      ],
      "metadata": {
        "id": "t5B4aiLEfHIQ"
      },
      "execution_count": null,
      "outputs": []
    },
    {
      "cell_type": "markdown",
      "source": [
        "#Configuration\n",
        "\n",
        "Please feel free to tweak the configurations yourself and note how the model training changes. This is an excellent exercise to get a better understanding of the training pipeline."
      ],
      "metadata": {
        "id": "a8ylY76sf31q"
      }
    },
    {
      "cell_type": "code",
      "source": [
        "\n",
        "# Image Config\n",
        "HEIGHT = 160\n",
        "WIDTH = 160\n",
        "NUM_CLASSES = 3\n",
        "\n",
        "# Augmentation Config\n",
        "ROTATION_FACTOR = (-0.2, 0.2)\n",
        "\n",
        "# Training Config\n",
        "BATCH_SIZE = 32\n",
        "EPOCHS = 50\n",
        "LEARNING_RATE = 1e-4\n",
        "AUTOTUNE = tf.data.AUTOTUNE\n"
      ],
      "metadata": {
        "id": "agXcbDMRdQmT"
      },
      "execution_count": null,
      "outputs": []
    },
    {
      "cell_type": "markdown",
      "source": [
        "#Download the data\n",
        "\n",
        "We download the Oxford-IIT Pet dataset with TensorFlow Datasets (TFDS) with one line of code. Combine the training and test data, and then split the combined data into 80% training dataset and 20% test dataset (used later on for both validation and testing)."
      ],
      "metadata": {
        "id": "atupRS5ihKp9"
      }
    },
    {
      "cell_type": "code",
      "source": [
        "import tensorflow_datasets as tfds\n",
        "orig_train_ds, orig_val_ds = tfds.load(\n",
        "    name=\"oxford_iiit_pet\",\n",
        "    split=[\"train+test[:80%]\", \"test[80%:]\"],\n",
        ")"
      ],
      "metadata": {
        "id": "BAVQ8d0ThQ_9"
      },
      "execution_count": null,
      "outputs": []
    },
    {
      "cell_type": "markdown",
      "source": [
        "#Preprocess the data\n",
        "\n",
        "Here we processes the images and segmentation masks in the inputs dictionary, mapping the image pixel intensities from [0, 255] to the range [0.0, 1.0] and adjusting segmentation masks indices from 1-based to 0-based.\n",
        "\n",
        "Also note the renaming of the keys of the dictionary. The processed datasets are formatted suitably for KerasCV layers, which expect inputs in a specific dictionary format."
      ],
      "metadata": {
        "id": "hmId7ybZhcpP"
      }
    },
    {
      "cell_type": "code",
      "source": [
        "rescale_images_and_correct_masks = lambda inputs: {\n",
        "    \"images\": tf.cast(inputs[\"image\"], dtype=tf.float32) / 255.0,\n",
        "    \"segmentation_masks\": inputs[\"segmentation_mask\"] - 1,\n",
        "}\n",
        "\n",
        "\n",
        "train_ds = orig_train_ds.map(\n",
        "    rescale_images_and_correct_masks, num_parallel_calls=AUTOTUNE\n",
        ")\n",
        "val_ds = orig_val_ds.map(rescale_images_and_correct_masks, num_parallel_calls=AUTOTUNE)"
      ],
      "metadata": {
        "id": "Ziiz3dymhnmy"
      },
      "execution_count": null,
      "outputs": []
    },
    {
      "cell_type": "markdown",
      "source": [
        "#Utility function\n",
        "The unpackage_inputs is a utility function that is used to unpack the inputs from the dictionary format to a tuple of (images, segmentation_masks). This will be used later on for visualizing the images and segmentation masks and also the model predictions."
      ],
      "metadata": {
        "id": "qDtqGhe0dtJX"
      }
    },
    {
      "cell_type": "code",
      "source": [
        "\n",
        "def unpackage_inputs(inputs):\n",
        "    images = inputs[\"images\"]\n",
        "    segmentation_masks = inputs[\"segmentation_masks\"]\n",
        "    return images, segmentation_masks\n"
      ],
      "metadata": {
        "id": "H_qVEaE7D3GX"
      },
      "execution_count": null,
      "outputs": []
    },
    {
      "cell_type": "markdown",
      "source": [
        "#Visualize data\n",
        "Let's visualized a few images and their segmentation masks from the training data, with the keras_cv.visualization.plot_segmentation_mask_gallery API."
      ],
      "metadata": {
        "id": "QTT_bzWihszD"
      }
    },
    {
      "cell_type": "code",
      "source": [
        "plot_train_ds = train_ds.map(unpackage_inputs).ragged_batch(4)\n",
        "images, segmentation_masks = next(iter(plot_train_ds.take(1)))\n",
        "\n",
        "keras_cv.visualization.plot_segmentation_mask_gallery(\n",
        "    images,\n",
        "    value_range=(0, 1),\n",
        "    num_classes=3,\n",
        "    y_true=segmentation_masks,\n",
        "    y_pred=None,\n",
        "    scale=4,\n",
        "    rows=2,\n",
        "    cols=2,\n",
        ")\n"
      ],
      "metadata": {
        "id": "OtSO1mp7h1CZ"
      },
      "execution_count": null,
      "outputs": []
    },
    {
      "cell_type": "markdown",
      "source": [
        "#Data Augmentation\n",
        "\n",
        "We resize both the images and masks to the width/height as specified. Then use KerasCV's RandomFlip, RandomRotation and RandAugment to apply image augmentation of random flip, random rotation.\n",
        "\n",
        "We only apply the resizing operation to the validation dataset"
      ],
      "metadata": {
        "id": "EVKNU85hiEcj"
      }
    },
    {
      "cell_type": "code",
      "source": [
        "resize_fn = keras_cv.layers.Resizing(\n",
        "    HEIGHT,\n",
        "    WIDTH,\n",
        ")\n",
        "\n",
        "augment_fn = keras.Sequential(\n",
        "    [\n",
        "        resize_fn,\n",
        "        keras_cv.layers.RandomFlip(),\n",
        "        keras_cv.layers.RandomRotation(\n",
        "            factor=ROTATION_FACTOR,\n",
        "            segmentation_classes=NUM_CLASSES,\n",
        "        )\n",
        "    ]\n",
        ")\n"
      ],
      "metadata": {
        "id": "ilSHpItFiRYJ"
      },
      "execution_count": null,
      "outputs": []
    },
    {
      "cell_type": "markdown",
      "source": [
        "Create training and validation datasets."
      ],
      "metadata": {
        "id": "FbUvef-FiVB2"
      }
    },
    {
      "cell_type": "code",
      "source": [
        "augmented_train_ds = (\n",
        "    train_ds.shuffle(BATCH_SIZE * 2)\n",
        "    .map(augment_fn, num_parallel_calls=AUTOTUNE)\n",
        "    .batch(BATCH_SIZE)\n",
        "    .map(unpackage_inputs)\n",
        "    .prefetch(buffer_size=tf.data.AUTOTUNE)\n",
        ")\n",
        "resized_val_ds = (\n",
        "    val_ds.map(resize_fn, num_parallel_calls=AUTOTUNE)\n",
        "    .batch(BATCH_SIZE)\n",
        "    .map(unpackage_inputs)\n",
        "    .prefetch(buffer_size=tf.data.AUTOTUNE)\n",
        ")\n"
      ],
      "metadata": {
        "id": "jf8-J7PViYRm"
      },
      "execution_count": null,
      "outputs": []
    },
    {
      "cell_type": "markdown",
      "source": [
        "#Visualize augmented data\n",
        "\n",
        "Now let's again visualize a few of the images and their segmentation masks with the keras_cv.visualization.plot_segmentation_mask_gallery API. Note the effects from the data augmentation."
      ],
      "metadata": {
        "id": "5oxnXqB2jZhe"
      }
    },
    {
      "cell_type": "code",
      "source": [
        "images, segmentation_masks = next(iter(augmented_train_ds.take(1)))\n",
        "\n",
        "keras_cv.visualization.plot_segmentation_mask_gallery(\n",
        "    images,\n",
        "    value_range=(0, 1),\n",
        "    num_classes=3,\n",
        "    y_true=segmentation_masks,\n",
        "    y_pred=None,\n",
        "    scale=4,\n",
        "    rows=2,\n",
        "    cols=2,\n",
        ")\n"
      ],
      "metadata": {
        "id": "0twVhjVBjiFV"
      },
      "execution_count": null,
      "outputs": []
    },
    {
      "cell_type": "markdown",
      "source": [
        "#Model architecture\n",
        "\n",
        "The U-Net consists of an encoder for downsampling and a decoder for upsampling with skip connections.\n",
        "\n",
        "The model architecture shapes like the letter U hence the name U-Net.\n",
        "\n",
        "![Unet.png](data:image/png;base64,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)"
      ],
      "metadata": {
        "id": "kWxfZjjMj-cJ"
      }
    },
    {
      "cell_type": "markdown",
      "source": [
        "We reuse the code for implementation of a functional keras model presented above."
      ],
      "metadata": {
        "id": "zev4MHDIkPQD"
      }
    },
    {
      "cell_type": "code",
      "source": [
        "import tensorflow as tf\n",
        "from tensorflow.keras.layers import Input, Conv2D, MaxPooling2D, UpSampling2D, concatenate\n",
        "from tensorflow.keras.models import Model\n",
        "\n",
        "# Image Config\n",
        "HEIGHT = 160\n",
        "WIDTH = 160\n",
        "NUM_CLASSES = 3\n",
        "\n",
        "\n",
        "# Define the U-Net architecture using the Functional API\n",
        "def unet(input_shape=(160, 160, 3), num_classes=3):\n",
        "    # Input layer\n",
        "    inputs = Input(input_shape)\n",
        "\n",
        "    # Encoder\n",
        "    conv1 = Conv2D(64, 3, activation='relu', padding='same')(inputs)\n",
        "    conv1 = Conv2D(64, 3, activation='relu', padding='same')(conv1)\n",
        "    pool1 = MaxPooling2D(pool_size=(2, 2))(conv1)\n",
        "\n",
        "    conv2 = Conv2D(128, 3, activation='relu', padding='same')(pool1)\n",
        "    conv2 = Conv2D(128, 3, activation='relu', padding='same')(conv2)\n",
        "    pool2 = MaxPooling2D(pool_size=(2, 2))(conv2)\n",
        "\n",
        "    conv3 = Conv2D(256, 3, activation='relu', padding='same')(pool2)\n",
        "    conv3 = Conv2D(256, 3, activation='relu', padding='same')(conv3)\n",
        "    pool3 = MaxPooling2D(pool_size=(2, 2))(conv3)\n",
        "\n",
        "    # Bottom layer\n",
        "    conv4 = Conv2D(512, 3, activation='relu', padding='same')(pool3)\n",
        "    conv4 = Conv2D(512, 3, activation='relu', padding='same')(conv4)\n",
        "\n",
        "    # Decoder\n",
        "    up5 = UpSampling2D(size=(2, 2))(conv4)\n",
        "    up5 = concatenate([up5, conv3], axis=-1)\n",
        "    conv5 = Conv2D(256, 3, activation='relu', padding='same')(up5)\n",
        "    conv5 = Conv2D(256, 3, activation='relu', padding='same')(conv5)\n",
        "\n",
        "    up6 = UpSampling2D(size=(2, 2))(conv5)\n",
        "    up6 = concatenate([up6, conv2], axis=-1)\n",
        "    conv6 = Conv2D(128, 3, activation='relu', padding='same')(up6)\n",
        "    conv6 = Conv2D(128, 3, activation='relu', padding='same')(conv6)\n",
        "\n",
        "    up7 = UpSampling2D(size=(2, 2))(conv6)\n",
        "    up7 = concatenate([up7, conv1], axis=-1)\n",
        "    conv7 = Conv2D(64, 3, activation='relu', padding='same')(up7)\n",
        "    conv7 = Conv2D(64, 3, activation='relu', padding='same')(conv7)\n",
        "\n",
        "    # Output layer\n",
        "    output = Conv2D(num_classes, 1, activation='softmax')(conv7)\n",
        "\n",
        "    # Create the model\n",
        "    model = Model(inputs=inputs, outputs=output)\n",
        "\n",
        "    return model\n",
        "\n",
        "model = unet(input_shape=(HEIGHT, WIDTH, 3), num_classes=NUM_CLASSES)\n",
        "model.summary()"
      ],
      "metadata": {
        "id": "mmKASh-jkIDa"
      },
      "execution_count": null,
      "outputs": []
    },
    {
      "cell_type": "markdown",
      "source": [
        "We subclass Callback to monitor the model training progress: training and validation loss, and visually inspect the images, predicted masks and ground truth masks."
      ],
      "metadata": {
        "id": "3hPB-op7lA5q"
      }
    },
    {
      "cell_type": "code",
      "source": [
        "# Taking a batch of test inputs to measure model's progress.\n",
        "test_images, test_masks = next(iter(resized_val_ds))\n",
        "\n",
        "class DisplayCallback(keras.callbacks.Callback):\n",
        "    def __init__(self, epoch_interval=None):\n",
        "        self.epoch_interval = epoch_interval\n",
        "\n",
        "    def on_epoch_end(self, epoch, logs=None):\n",
        "        if self.epoch_interval and epoch % self.epoch_interval == 0:\n",
        "            pred_masks = self.model.predict(test_images)\n",
        "            pred_masks = tf.math.argmax(pred_masks, axis=-1)\n",
        "            pred_masks = pred_masks[..., tf.newaxis]\n",
        "\n",
        "            # Randomly select an image from the test batch\n",
        "            random_index = random.randint(0, BATCH_SIZE - 1)\n",
        "            random_image = test_images[random_index]\n",
        "            random_pred_mask = pred_masks[random_index]\n",
        "            random_true_mask = test_masks[random_index]\n",
        "\n",
        "            fig, ax = plt.subplots(nrows=1, ncols=3, figsize=(10, 5))\n",
        "            ax[0].imshow(random_image)\n",
        "            ax[0].set_title(f\"Image: {epoch:03d}\")\n",
        "\n",
        "            ax[1].imshow(random_true_mask)\n",
        "            ax[1].set_title(f\"Ground Truth Mask: {epoch:03d}\")\n",
        "\n",
        "            ax[2].imshow(random_pred_mask)\n",
        "            ax[2].set_title(\n",
        "                f\"Predicted Mask: {epoch:03d}\",\n",
        "            )\n",
        "\n",
        "            plt.show()\n",
        "            plt.close()\n",
        "\n",
        "\n",
        "callbacks = [DisplayCallback(5)]\n"
      ],
      "metadata": {
        "id": "v5loFdLWlFqE"
      },
      "execution_count": null,
      "outputs": []
    },
    {
      "cell_type": "markdown",
      "source": [
        "#Train the model\n",
        "\n",
        "Now let's create the model, compile and train it for 50 epochs by calling model.fit().\n",
        "\n",
        "To speed up training go change the notebooks settings to use GPU hardware acceleration. You may need to run specific relevant cells of the notebook again after changing the accelartor."
      ],
      "metadata": {
        "id": "2mZbvEMtlPMP"
      }
    },
    {
      "cell_type": "code",
      "source": [
        "# Build model\n",
        "model = unet(input_shape = (HEIGHT,WIDTH,3), num_classes=NUM_CLASSES)\n",
        "\n",
        "model.compile(\n",
        "    optimizer=keras.optimizers.Adam(LEARNING_RATE),\n",
        "    loss=\"sparse_categorical_crossentropy\",\n",
        "    metrics=[\"accuracy\"],\n",
        ")\n",
        "\n",
        "# Train the model, doing validation at the end of each epoch.\n",
        "history = model.fit(\n",
        "    augmented_train_ds,\n",
        "    epochs=EPOCHS,\n",
        "    validation_data=resized_val_ds,\n",
        "    callbacks=callbacks,\n",
        ")\n"
      ],
      "metadata": {
        "id": "KY6JMEIslVJC"
      },
      "execution_count": null,
      "outputs": []
    },
    {
      "cell_type": "markdown",
      "source": [
        "#Training a Pytorch model\n",
        "\n",
        "setting up the data pipeline"
      ],
      "metadata": {
        "id": "uCZY-Nrty-J6"
      }
    },
    {
      "cell_type": "code",
      "source": [
        "import torch\n",
        "from torch.utils.data import Dataset\n",
        "import numpy as np\n",
        "import os\n",
        "from torchvision import transforms\n",
        "from PIL import Image\n",
        "import torchvision\n",
        "from torch.utils.data import DataLoader\n",
        "import os\n",
        "from matplotlib.pyplot import imshow\n",
        "from enum import IntEnum\n",
        "\n",
        "%matplotlib inline\n",
        "\n",
        "\n",
        "working_dir = os.getcwd() #change the directory if you want\n",
        "\n",
        "\n",
        "# Oxford IIIT Pets Segmentation dataset loaded via torchvision.\n",
        "pets_path_train = os.path.join(working_dir, 'OxfordPets', 'train')\n",
        "pets_path_test = os.path.join(working_dir, 'OxfordPets', 'test')\n",
        "pets_train_orig = torchvision.datasets.OxfordIIITPet(root=pets_path_train, split=\"trainval\", target_types=\"segmentation\", download=True)\n",
        "pets_test_orig = torchvision.datasets.OxfordIIITPet(root=pets_path_test, split=\"test\", target_types=\"segmentation\", download=True)\n",
        "\n",
        "\n",
        "Dataset_dir = f'{working_dir}/OxfordPets'\n",
        "\n",
        "hparams = {\"batch_size\": 16\n",
        "          }\n",
        "\n",
        "\n",
        "class SemanticDataset(Dataset):\n",
        "    def __init__(self,train=False,test=False,transform=None):\n",
        "        if(train):\n",
        "            self.file_path_images=os.path.join((os.getcwd()),f'{Dataset_dir}/train/oxford-iiit-pet/images/')\n",
        "            self.file_path_labels=os.path.join((os.getcwd()),f'{Dataset_dir}/train/oxford-iiit-pet/annotations/trimaps/')\n",
        "\n",
        "        if(test):\n",
        "            self.file_path_images=os.path.join((os.getcwd()),f'{Dataset_dir}/test/oxford-iiit-pet/images/')\n",
        "            self.file_path_labels=os.path.join((os.getcwd()),f'{Dataset_dir}/test/oxford-iiit-pet/annotations/trimaps/')\n",
        "\n",
        "        self.transform_image=transforms.Compose([transforms.Resize((160, 160)),transforms.ToTensor()])\n",
        "        self.transform_label=transforms.Compose([transforms.Resize((160, 160)),\n",
        "                                                 transforms.ToTensor(),\n",
        "                                                 transforms.Normalize(mean=1,std=1)\n",
        "                                                 ])\n",
        "\n",
        "        self.file_list_images=[os.path.splitext(filename)[0] for filename in os.listdir(self.file_path_images)]\n",
        "        self.file_list_labels=[x+\".png\" for x in self.file_list_images]\n",
        "        self.file_list_images=[x+\".jpg\" for x in self.file_list_images]\n",
        "\n",
        "        print(\"Loaded \",len(self.file_list_images),\" Images\")\n",
        "\n",
        "\n",
        "    def __len__(self):\n",
        "        return len(self.file_list_images)\n",
        "\n",
        "    def __getitem__(self,idx):\n",
        "\n",
        "        image_path=os.path.join(self.file_path_images,self.file_list_images[idx])\n",
        "        label_path=os.path.join(self.file_path_labels,self.file_list_labels[idx])\n",
        "\n",
        "        image=Image.open(image_path)\n",
        "        label=Image.open(label_path)\n",
        "\n",
        "\n",
        "        return self.transform_image(image),self.transform_label(label).type(torch.LongTensor)\n",
        "\n",
        "    def show_image(self,idx):\n",
        "        image_path=os.path.join(self.file_path_images,self.file_list_images[idx])\n",
        "\n",
        "        image=np.array(Image.open(image_path))\n",
        "        image=Image.fromarray(image)\n",
        "        image=image.convert('RGB')\n",
        "        imshow(self.tranform_image(image))\n",
        "\n",
        "\n",
        "    def show_label(self,idx):\n",
        "        label_path=os.path.join(self.file_path_labels,self.file_list_labels[idx])\n",
        "\n",
        "        image=np.array(Image.open(label_path))*80.0\n",
        "        image=Image.fromarray(image)\n",
        "        image=image.convert('L')\n",
        "        imshow(self.transform_label(image))\n",
        "\n",
        "    def load_image(self,idx):\n",
        "\n",
        "        if type(idx) == list:\n",
        "          ims = []\n",
        "          for id_ in idx:\n",
        "\n",
        "              image_path=os.path.join(self.file_path_images,self.file_list_images[id_])\n",
        "\n",
        "              image=np.array(Image.open(image_path))\n",
        "              image=Image.fromarray(image)\n",
        "              image=image.convert('RGB')\n",
        "              ims.append(image)\n",
        "          return ims\n",
        "        else:\n",
        "              image_path=os.path.join(self.file_path_images,self.file_list_images[idx])\n",
        "              image=np.array(Image.open(image_path))\n",
        "              image=Image.fromarray(image)\n",
        "              image=image.convert('RGB')\n",
        "              return image\n",
        "\n",
        "\n",
        "    def load_label(self,idx):\n",
        "\n",
        "        if type(idx) == list:\n",
        "          ims = []\n",
        "          for id_ in idx:\n",
        "            label_path=os.path.join(self.file_path_labels,self.file_list_labels[id_])\n",
        "            image=np.array(Image.open(label_path))*80\n",
        "            image=Image.fromarray(image)\n",
        "            image=image.convert('L')\n",
        "\n",
        "            ims.append(image)\n",
        "\n",
        "          return ims\n",
        "\n",
        "        else:\n",
        "            label_path=os.path.join(self.file_path_labels,self.file_list_labels[idx])\n",
        "            image=np.array(Image.open(label_path))*80\n",
        "            image=Image.fromarray(image)\n",
        "            image=image.convert('L')\n",
        "            return image\n",
        "\n",
        "\n",
        "train_data = SemanticDataset(train=True, test=False, transform=None)\n",
        "\n",
        "train_dataloader = DataLoader(\n",
        "    train_data, batch_size=hparams[\"batch_size\"], num_workers=2)\n",
        "\n",
        "test_data = SemanticDataset(train=False, test=True, transform=None)\n",
        "test_dataloader = DataLoader(\n",
        "    test_data, batch_size=hparams[\"batch_size\"], num_workers=2)\n",
        "\n",
        "train_features, train_labels = next(iter(train_dataloader))\n",
        "print(f\"Feature batch shape: {train_features.size()}\")\n",
        "print(f\"Labels batch shape: {train_labels.size()}, type: {type(train_labels)}\")\n"
      ],
      "metadata": {
        "id": "wWY_4naN1U8t"
      },
      "execution_count": null,
      "outputs": []
    },
    {
      "cell_type": "markdown",
      "source": [
        "Show some example images and labels"
      ],
      "metadata": {
        "id": "DTjKn2krP38G"
      }
    },
    {
      "cell_type": "code",
      "source": [
        "import matplotlib.pyplot as plt\n",
        "import random\n",
        "\n",
        "idx =  random.sample(range(0, len(train_data)), 10)\n",
        "\n",
        "images = train_data.load_image(idx)\n",
        "\n",
        "labels = train_data.load_label(idx)\n",
        "\n",
        "fig = plt.figure(figsize=(10, 10))\n",
        "\n",
        "columns = 2\n",
        "rows = 5\n",
        "for i in range(1, (columns*rows)+1):\n",
        "    fig.add_subplot(rows, columns, i)\n",
        "    im = images[i-1]\n",
        "    lbl = labels[i-1]\n",
        "    im = im.resize((160,160))\n",
        "    lbl = lbl.resize((160,160))\n",
        "    im = np.concatenate((im,np.dstack([np.expand_dims(lbl,-1)]*3)),axis=1)\n",
        "    plt.axis('off')\n",
        "    plt.imshow(im)\n",
        "\n",
        "\n",
        "plt.show()\n"
      ],
      "metadata": {
        "id": "7gyRwcn-EjXQ"
      },
      "execution_count": null,
      "outputs": []
    },
    {
      "cell_type": "markdown",
      "source": [
        "Define model"
      ],
      "metadata": {
        "id": "j8h80dbWiEZd"
      }
    },
    {
      "cell_type": "code",
      "source": [
        "import torch\n",
        "import torch.nn as nn\n",
        "from torchsummary import summary\n",
        "\n",
        "device = torch.device(\"cuda:0\" if torch.cuda.is_available() else \"cpu\")\n",
        "\n",
        "class encoder_block(nn.Module):\n",
        "    def __init__(self, in_channels, out_channels):\n",
        "        super(encoder_block, self).__init__()\n",
        "\n",
        "        self.block = nn.Sequential(\n",
        "            nn.Conv2d(in_channels, out_channels, kernel_size=3, padding=1),\n",
        "            nn.ReLU(inplace=True),\n",
        "            nn.Conv2d(out_channels, out_channels, kernel_size=3, padding=1),\n",
        "            nn.ReLU(inplace=True),\n",
        "            nn.MaxPool2d(kernel_size=2, stride=2)\n",
        "        )\n",
        "\n",
        "    def forward(self,x):\n",
        "      x = self.block(x)\n",
        "      return x\n",
        "\n",
        "class decoder_block(nn.Module):\n",
        "    def __init__(self, in_channels, out_channels):\n",
        "        super(decoder_block, self).__init__()\n",
        "        self.block = nn.Sequential(\n",
        "            nn.UpsamplingBilinear2d(scale_factor=2),\n",
        "            nn.Conv2d(in_channels, out_channels, kernel_size=3, padding=1),\n",
        "            nn.ReLU(inplace=True),\n",
        "            nn.Conv2d(out_channels, out_channels, kernel_size=3, padding=1),\n",
        "            nn.ReLU(inplace=True),\n",
        "        )\n",
        "\n",
        "\n",
        "    def forward(self,x):\n",
        "        x = self.block(x)\n",
        "        return x\n",
        "\n",
        "class UNet(nn.Module):\n",
        "    def __init__(self, in_channels, out_channels):\n",
        "        super(UNet, self).__init__()\n",
        "\n",
        "\n",
        "        self.e1 = encoder_block(in_channels,64)\n",
        "        self.e2 = encoder_block(64,128)\n",
        "        self.e3 = encoder_block(128,256)\n",
        "        self.e4 = encoder_block(256,512)\n",
        "\n",
        "\n",
        "\n",
        "        self.d1 = decoder_block(512,256)\n",
        "        self.d2 = decoder_block(512,128)\n",
        "        self.d3 = decoder_block(256,64)\n",
        "\n",
        "        self.seg_block = nn.Sequential(nn.UpsamplingBilinear2d(scale_factor=2),\n",
        "            nn.Conv2d(128,64,kernel_size=3,padding=1),\n",
        "            nn.ReLU(inplace=True),\n",
        "            nn.Conv2d(64,out_channels,kernel_size=1),\n",
        "            nn.Softmax())\n",
        "\n",
        "\n",
        "    def forward(self, x):\n",
        "        # Encode\n",
        "        x1 = self.e1(x)\n",
        "        x2 = self.e2(x1)\n",
        "        x3 = self.e3(x2)\n",
        "        x4 = self.e4(x3)\n",
        "\n",
        "        #decode\n",
        "        x5 = self.d1(x4)\n",
        "\n",
        "        x5 = torch.cat([x5,x3],1)\n",
        "\n",
        "        x6 = self.d2(x5)\n",
        "\n",
        "        x6 = torch.cat([x6,x2],1)\n",
        "\n",
        "        x7 = self.d3(x6)\n",
        "\n",
        "        x7 = torch.cat([x7,x1],1)\n",
        "\n",
        "        x7 = self.seg_block(x7)\n",
        "\n",
        "\n",
        "        return x7\n",
        "\n",
        "# Create a U-Net model with 3 input channels and 3 output channel\n",
        "model = UNet(in_channels=3, out_channels=3)\n",
        "\n",
        "if torch.cuda.is_available():\n",
        "    model.cuda()\n",
        "# Print the model summary\n",
        "#\n",
        "print(summary(model,(3,160,160),3))\n",
        "\n",
        "model.to(device)\n"
      ],
      "metadata": {
        "id": "cXE_bqwJiGmb"
      },
      "execution_count": null,
      "outputs": []
    },
    {
      "cell_type": "markdown",
      "source": [
        "Define a training loop"
      ],
      "metadata": {
        "id": "1gOyZFPRdlxf"
      }
    },
    {
      "cell_type": "code",
      "source": [
        "\n",
        "from tqdm import tqdm\n",
        "device = torch.device(\"cuda:0\" if torch.cuda.is_available() else \"cpu\")\n",
        "\n",
        "# Train the model for some steps\n",
        "def train_model(model, loader, optimizer):\n",
        "\n",
        "    criterion = nn.CrossEntropyLoss(reduction='mean')\n",
        "\n",
        "    running_loss = 0.0\n",
        "    running_samples = 0\n",
        "    for batch_idx in tqdm(range(0,(len(train_data)//20)//hparams['batch_size'])):\n",
        "        inputs, targets = next(iter(loader))\n",
        "\n",
        "\n",
        "        optimizer.zero_grad()\n",
        "        inputs = inputs.to(device)\n",
        "        targets = targets.to(device)\n",
        "        outputs = model(inputs)\n",
        "\n",
        "        targets = targets.squeeze(dim=1)\n",
        "        loss = criterion(outputs, targets)\n",
        "        loss.backward()\n",
        "        optimizer.step()\n",
        "\n",
        "        running_samples += targets.size(0)\n",
        "        running_loss += loss.item()\n",
        "\n",
        "    print(\"Trained {} samples, Loss: {:.4f}\".format(\n",
        "        running_samples,\n",
        "        running_loss / (batch_idx+1),\n",
        "    ))\n"
      ],
      "metadata": {
        "id": "__JEmaV7twe-"
      },
      "execution_count": null,
      "outputs": []
    },
    {
      "cell_type": "markdown",
      "source": [
        "Train the model"
      ],
      "metadata": {
        "id": "4PbTxvuYdpCh"
      }
    },
    {
      "cell_type": "code",
      "source": [
        "train_model(model,train_dataloader,torch.optim.Adam(model.parameters(), lr=0.001))"
      ],
      "metadata": {
        "id": "L20BjQuTt28e"
      },
      "execution_count": null,
      "outputs": []
    }
  ]
}