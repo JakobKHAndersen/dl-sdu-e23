{
  "nbformat": 4,
  "nbformat_minor": 0,
  "metadata": {
    "colab": {
      "provenance": []
    },
    "kernelspec": {
      "name": "python3",
      "display_name": "Python 3"
    },
    "language_info": {
      "name": "python"
    }
  },
  "cells": [
    {
      "cell_type": "markdown",
      "source": [
        "#**Python crash course**\n",
        "#Deep learning inde for det sundhedstekniske domæne E23\n",
        "\n",
        "Denne notebook er tænkt som en introduktion til Python i et omfang som skulle gøre det muligt at arbejde med de forskellige delopgaver i kurset.\n",
        "\n",
        "\n"
      ],
      "metadata": {
        "id": "qJIep14lLHIf"
      }
    },
    {
      "cell_type": "markdown",
      "source": [
        "###Python datatyper:\n",
        "\n",
        "| Datatype | klasse | Beskrivelse|\n",
        "| ----------- | ----------- |-----------|\n",
        "| Numerisk| int, float, complex |Holder numeriske værdier|\n",
        "| Strings| str |Holder sekvenser af tekst ex. 'Python' el. '3.8'|\n",
        "| Sekvenser|list, tuple, range |Holder en samling af elementer ex. [1,2,3] el. ('en','to','tre')|\n",
        "| Mapping|dict|Holder data i 'key' 'value' par dvs. {'key':'value'} el.  {'Navn': 'Jakob'} |\n",
        "|Boolean|bool|holder \"True\"/\"False\" el. 1/0|\n",
        "|Set|set,frozeenset|holder samling af unikke elementer|\n",
        "  "
      ],
      "metadata": {
        "id": "wdc2zIhSljnv"
      }
    },
    {
      "cell_type": "markdown",
      "source": [
        "##Python numeriske datatyper"
      ],
      "metadata": {
        "id": "PyVUGvLjvef-"
      }
    },
    {
      "cell_type": "code",
      "source": [
        "num1 = 5\n",
        "print(num1, 'er af type', type(num1))\n",
        "\n",
        "num2 = 2.0\n",
        "print(num2, 'er af type', type(num2))\n",
        "\n",
        "num3=1+2j\n",
        "print(num3, 'er af type', type(num3))"
      ],
      "metadata": {
        "id": "T6vPisUWvtzq"
      },
      "execution_count": null,
      "outputs": []
    },
    {
      "cell_type": "markdown",
      "source": [
        "\"type()\" retunerer datatypen for den numeriske værdi. Det kan være vigtigt at holde styr på datatypen igennem kode, da nogle funktioner foventer bestemte typer. Det er også vigtigt i forhold til nogle aritmetiske operationer, som ikke virker efter hensigten hvis ikke man er opmærksom. I mange tilfælde vil python dog konvertere datatypen som nødvendigt."
      ],
      "metadata": {
        "id": "AAWfYboVxsFR"
      }
    },
    {
      "cell_type": "code",
      "source": [
        "num1 = 2\n",
        "num2 = 4\n",
        "\n",
        "num3 = num1/num2\n",
        "\n",
        "print('num1 =' ,num1 ,'er af type', type(num1))\n",
        "print('num2 =' ,num2 ,'er af type', type(num2))\n",
        "\n",
        "print('num3 =' ,num3 ,'er af type', type(num3))\n",
        "\n"
      ],
      "metadata": {
        "id": "ZfYz7neozvEX"
      },
      "execution_count": null,
      "outputs": []
    },
    {
      "cell_type": "markdown",
      "source": [
        "##Numeriske operationer\n",
        "Syntaxen for standard numeriske operationer i python er ligefrem."
      ],
      "metadata": {
        "id": "tYAWbEwb3J0v"
      }
    },
    {
      "cell_type": "code",
      "source": [
        "num_1_int = 8\n",
        "num_2_float = 4.0\n",
        "\n",
        "num_3_result = num_1_int + num_2_float\n",
        "\n",
        "print('addition: num_3_results =' ,num_3_result ,'er af type', type(num_3_result))\n",
        "\n",
        "num_3_result = num_1_int - num_2_float\n",
        "\n",
        "print('subtraktion: num_3_results =' ,num_3_result ,'er af type', type(num_3_result))\n",
        "\n",
        "num_3_result = num_1_int / num_2_float\n",
        "\n",
        "print('division: num_3_results =' ,num_3_result ,'er af type', type(num_3_result))\n",
        "\n",
        "num_3_result = num_1_int * num_2_float\n",
        "\n",
        "print('multiplikation: num_3_results =' ,num_3_result ,'er af type', type(num_3_result))\n",
        "\n",
        "num_3_result = num_1_int** num_2_float\n",
        "\n",
        "print('eksponenter: num_3_results =' ,num_3_result ,'er af type', type(num_3_result))\n",
        "\n",
        "num_3_result = num_2_float%num_1_int\n",
        "\n",
        "print('modulus: num_3_results =' ,num_3_result ,'er af type', type(num_3_result))"
      ],
      "metadata": {
        "id": "yHBLqfrk3Pto"
      },
      "execution_count": null,
      "outputs": []
    },
    {
      "cell_type": "markdown",
      "source": [
        "Numeriske værdier kan også ændres vha. af assignment operators"
      ],
      "metadata": {
        "id": "8-5wxWTNSVVo"
      }
    },
    {
      "cell_type": "code",
      "source": [
        "num_1_int = 8\n",
        "num_2_float = 4.0\n",
        "\n",
        "num_1_int += num_2_float\n",
        "\n",
        "print('addition: num_1_int =' ,num_1_int ,'er af type', type(num_1_int))\n",
        "\n",
        "num_1_int *= num_2_float\n",
        "print('multiplikation: num_1_int =' ,num_1_int ,'er af type', type(num_1_int))\n",
        "\n",
        "num_1_int -= num_2_float\n",
        "print('subtraktion: num_1_int =' ,num_1_int ,'er af type', type(num_1_int))\n",
        "\n",
        "num_1_int /= num_2_float\n",
        "print('division: num_1_int =' ,num_1_int ,'er af type', type(num_1_int))\n",
        "\n",
        "num_1_int **= num_2_float\n",
        "print('eksponenter: num_1_int =' ,num_1_int ,'er af type', type(num_1_int))"
      ],
      "metadata": {
        "id": "JzPyW0IUTrkm"
      },
      "execution_count": null,
      "outputs": []
    },
    {
      "cell_type": "markdown",
      "source": [
        "##Python string datatype\n",
        "strings betegner datatypen bestående af unicode tegn."
      ],
      "metadata": {
        "id": "oCKWXGhiz_ps"
      }
    },
    {
      "cell_type": "code",
      "source": [
        "str1 = 'eksempel tekst'\n",
        "VariabelTekst_2 = ' og et andet eksempel'\n",
        "\n",
        "print('str1 = ',str1,'er af type',type(str1))\n",
        "\n",
        "print('VariabelTekst_2 = ',VariabelTekst_2,'er af type',type(VariabelTekst_2))\n",
        "\n",
        "string_addition = str1 + VariabelTekst_2\n",
        "\n",
        "print('string_addition = ',string_addition,'er af type',type(string_addition))"
      ],
      "metadata": {
        "id": "YhDeYBfI2tDk"
      },
      "execution_count": null,
      "outputs": []
    },
    {
      "cell_type": "markdown",
      "source": [
        "##Type casting\n",
        "\n",
        "Nogle gange vil man være være sikker på at en variabel er af den korrekte type forud for visse operationer. Følgende operation vil eksempelvis fejle:"
      ],
      "metadata": {
        "id": "tfOD70wC6MRZ"
      }
    },
    {
      "cell_type": "code",
      "source": [
        "str1 = 'tilfældig tekst streng '\n",
        "tilfældig_interger = 8\n",
        "\n",
        "resultat_streng = str1 + tilfældig_interger\n",
        "\n",
        "print('resultat_streng = ',resultat_streng,'er af type',type(resultat_streng))\n",
        "\n",
        "\n"
      ],
      "metadata": {
        "id": "yRfT6cIc7Fe8"
      },
      "execution_count": null,
      "outputs": []
    },
    {
      "cell_type": "markdown",
      "source": [
        "Det kan dog omgås ved at caste den numeriske værdi til en str type"
      ],
      "metadata": {
        "id": "B0wQRfaJ8Bub"
      }
    },
    {
      "cell_type": "code",
      "source": [
        "str1 = 'tilfældig tekst streng '\n",
        "tilfældig_interger = 8\n",
        "\n",
        "resultat_streng = str1 + str(tilfældig_interger)\n",
        "\n",
        "print('resultat_streng = ',resultat_streng,'er af type',type(resultat_streng))"
      ],
      "metadata": {
        "id": "_QJ9KQe27_-i"
      },
      "execution_count": null,
      "outputs": []
    },
    {
      "cell_type": "markdown",
      "source": [
        "Fungerer dog ikke den anden vej med det her eksempel"
      ],
      "metadata": {
        "id": "slfBNDVk8nxS"
      }
    },
    {
      "cell_type": "code",
      "source": [
        "str1 = 'tilfældig tekst streng '\n",
        "tilfældig_interger = 8\n",
        "\n",
        "resultat_streng = int(str1) + tilfældig_interger\n",
        "\n",
        "print('resultat_streng = ',resultat_streng,'er af type',type(resultat_streng))"
      ],
      "metadata": {
        "id": "dDTfL7cj8v-I"
      },
      "execution_count": null,
      "outputs": []
    },
    {
      "cell_type": "markdown",
      "source": [
        "#Sekvenser"
      ],
      "metadata": {
        "id": "VZxUNIa49CxZ"
      }
    },
    {
      "cell_type": "markdown",
      "source": [
        "##Python lister\n",
        "Lister er en metode til at holde flere elementer i en variabel i Python."
      ],
      "metadata": {
        "id": "64--iZFS9JK9"
      }
    },
    {
      "cell_type": "code",
      "source": [
        "liste1 = ['dyrenavn','køretøj','person']\n",
        "\n",
        "print('liste1 = ',liste1,'er af type',type(liste1))"
      ],
      "metadata": {
        "id": "SVO26ij59Ox_"
      },
      "execution_count": null,
      "outputs": []
    },
    {
      "cell_type": "markdown",
      "source": [
        "Lister kan indholde elementer af forskellig datatype"
      ],
      "metadata": {
        "id": "pv_C6mEp9vnp"
      }
    },
    {
      "cell_type": "code",
      "source": [
        "\n",
        "liste2 = ['dyrenavn',9,liste1]\n",
        "\n",
        "print('liste2 = ',liste2,'er af type',type(liste2))"
      ],
      "metadata": {
        "id": "rwC4E-Ph96WJ"
      },
      "execution_count": null,
      "outputs": []
    },
    {
      "cell_type": "markdown",
      "source": [
        "Elementer i en liste kan tilgås vha. deres indeks. I python anvendes der 0 indeksering. Dvs. det første element i en liste ligger på index 0"
      ],
      "metadata": {
        "id": "uisSt87S-4M8"
      }
    },
    {
      "cell_type": "code",
      "source": [
        "element_0 = liste2[0]\n",
        "element_1 = liste2[1]\n",
        "element_2 = liste2[2]\n",
        "\n",
        "\n",
        "\n",
        "print('element_0 = ',liste2[0],'er af type',type(liste2[0]))\n",
        "print('element_1 = ',liste2[1],'er af type',type(liste2[1]))\n",
        "print('element_2 = ',liste2[2],'er af type',type(liste2[2]))\n"
      ],
      "metadata": {
        "id": "gZZamzG6_Mun"
      },
      "execution_count": null,
      "outputs": []
    },
    {
      "cell_type": "markdown",
      "source": [
        "Forsøger man at tilgå et index som går ud over listens længde vil man få en fejl."
      ],
      "metadata": {
        "id": "ATXeTM4R_7tC"
      }
    },
    {
      "cell_type": "code",
      "source": [
        "element_3 = liste2[3]\n",
        "\n",
        "print('element_3 = ',liste2[3],'er af type',type(liste2[3]))"
      ],
      "metadata": {
        "id": "pq4B16HvAOOO"
      },
      "execution_count": null,
      "outputs": []
    },
    {
      "cell_type": "markdown",
      "source": [
        "Længden på listen kan returneres med len() funtionen, og hvis man ønsker at tilgå det sidste element i en liste bruger man index -1 (-2 for det næstsidste osv.)"
      ],
      "metadata": {
        "id": "_gqMg64uAolN"
      }
    },
    {
      "cell_type": "code",
      "source": [
        "len_liste2 = len(liste2)\n",
        "print(len_liste2)\n",
        "print('liste2 har en længde på ',len(liste2))\n",
        "\n",
        "\n",
        "element_0 = liste2[-3]\n",
        "element_1 = liste2[-2]\n",
        "element_2 = liste2[-1]\n",
        "\n",
        "\n",
        "\n",
        "print('element_0 = ',liste2[-3],'er af type',type(liste2[-3]))\n",
        "print('element_1 = ',liste2[-2],'er af type',type(liste2[-2]))\n",
        "print('element_2 = ',liste2[-1],'er af type',type(liste2[-1]))"
      ],
      "metadata": {
        "id": "dD9_MSnFA_Gd"
      },
      "execution_count": null,
      "outputs": []
    },
    {
      "cell_type": "markdown",
      "source": [
        "Hvis man vil have indeksværdien for et bestemt element kan dette gøres vha. .index() funktionen, som er en funktion i pythons 'list' klasse og er tilgængelig for objekter/instanster af denne klassetype."
      ],
      "metadata": {
        "id": "YUxMx6ACCKSR"
      }
    },
    {
      "cell_type": "code",
      "source": [
        "dyrenavn_idx = liste2.index('dyrenavn')\n",
        "\n",
        "print(liste2[liste2.index('dyrenavn')],'ligger på indeks',dyrenavn_idx,'i liste2')\n",
        "\n",
        "interger_idx = liste2.index(9)\n",
        "\n",
        "print(liste2[liste2.index(9)],'ligger på indeks',interger_idx,'i liste2')\n",
        "\n",
        "liste1_idx = liste2.index(liste1)\n",
        "\n",
        "print(liste2[liste2.index(liste1)],'ligger på indeks',liste1_idx,'i liste2')"
      ],
      "metadata": {
        "id": "gasXg0LLDd5J"
      },
      "execution_count": null,
      "outputs": []
    },
    {
      "cell_type": "markdown",
      "source": [
        "Python lister er en form for dynamiske arrays hvor der kan tilføjes og fjernes elementer efter det er initialiseret. Dvs. man kan initialiserere en tom liste og efterfølgende tilføje elemeneter med .append()."
      ],
      "metadata": {
        "id": "5WL3BrBMEiAI"
      }
    },
    {
      "cell_type": "code",
      "source": [
        "liste3 = []\n",
        "\n",
        "print('liste3 indeholder ',liste3)\n",
        "\n",
        "liste3.append('en ting')\n",
        "\n",
        "print('liste3 indeholder ',liste3)\n",
        "\n",
        "liste3.append('noget andet')\n",
        "\n",
        "print('liste3 indeholder ',liste3)\n",
        "\n",
        "liste3.append('noget tredje')\n",
        "\n",
        "print('liste3 indeholder ',liste3)"
      ],
      "metadata": {
        "id": "ht-fm9bfFHBe"
      },
      "execution_count": null,
      "outputs": []
    },
    {
      "cell_type": "markdown",
      "source": [
        "Afhængig af hvad man gerne vil tilføje til sin liste er der alternative måder at gøre det på. Hvis man eksempelvis gerne vil lægger indholdet fra én liste til en anden liste er .append() ikke den rigtige metode, da resultatet vil være den oprindlige liste indeholdende de oprindelige elementer plus den anden liste på det sidste index i den oprindelige liste (se nedenfor)"
      ],
      "metadata": {
        "id": "zjNztskeFwwa"
      }
    },
    {
      "cell_type": "code",
      "source": [
        "liste1 = ['noget','noget andet','noget tredje']\n",
        "liste2 = ['et nyt element', 'endnu et nyt element']\n",
        "\n",
        "liste1.append(liste2)\n",
        "\n",
        "print('liste1 indeholder ',liste1)"
      ],
      "metadata": {
        "id": "J0dQ0OEJHkYL"
      },
      "execution_count": null,
      "outputs": []
    },
    {
      "cell_type": "markdown",
      "source": [
        "Her ville man istedet bruge .extend() funktionen"
      ],
      "metadata": {
        "id": "flkgPnkjINHA"
      }
    },
    {
      "cell_type": "code",
      "source": [
        "liste1 = ['noget','noget andet','noget tredje']\n",
        "liste2 = ['et nyt element', 'endnu et nyt element']\n",
        "\n",
        "liste1.extend(liste2)\n",
        "\n",
        "print('liste1 indeholder ',liste1)"
      ],
      "metadata": {
        "id": "uQqGzBRiIWdl"
      },
      "execution_count": null,
      "outputs": []
    },
    {
      "cell_type": "markdown",
      "source": [
        "Alternativt kan man ligge de to lister sammen"
      ],
      "metadata": {
        "id": "yhkLlalTIm9k"
      }
    },
    {
      "cell_type": "code",
      "source": [
        "liste1 = ['noget','noget andet','noget tredje']\n",
        "liste2 = ['et nyt element', 'endnu et nyt element']\n",
        "\n",
        "liste1 = liste1 + liste2\n",
        "\n",
        "print('liste1 indeholder ',liste1)"
      ],
      "metadata": {
        "id": "wwDPeMUAIvyW"
      },
      "execution_count": null,
      "outputs": []
    },
    {
      "cell_type": "markdown",
      "source": [
        "Python lister er såkaldte \"mutable\" datatypes i python. Hvilket bla. betyder at der kan tilføjes eller fjernes elementer som ovenfor, og at der kan itereres igennem listen uden at indeksere.\n",
        "\n",
        "(Læg i øvrigt måske til indenteringen i \"for loopet\" nedenfor. I python bruges der \"whitespace formatting\" til at styre kode eksekvering i loops, definiere funktioner og klasser osv. Mere om dette senere.)"
      ],
      "metadata": {
        "id": "yn6jn-S6JbgC"
      }
    },
    {
      "cell_type": "code",
      "source": [
        "for e in liste1:\n",
        "  print(e)"
      ],
      "metadata": {
        "id": "Qq0TYIkpJ_XF"
      },
      "execution_count": null,
      "outputs": []
    },
    {
      "cell_type": "markdown",
      "source": [
        "Strings er også \"mutables\" og der kan itereres på samme måde"
      ],
      "metadata": {
        "id": "Fyzlf-a5KQjZ"
      }
    },
    {
      "cell_type": "code",
      "source": [
        "tekst_streng = 'en tekststreng med mange bogstaver, mellemrum og 9 8 10 og # ? & & '\n",
        "\n",
        "for i in tekst_streng:\n",
        "  print(i)"
      ],
      "metadata": {
        "id": "mNXcw-NBKetI"
      },
      "execution_count": null,
      "outputs": []
    },
    {
      "cell_type": "markdown",
      "source": [
        "Andre datatyper som eksempelvis intergers og floats er såkaldte \"immutables\""
      ],
      "metadata": {
        "id": "ZfDMc8qVK81u"
      }
    },
    {
      "cell_type": "code",
      "source": [
        "float_værdi = 1500.45\n",
        "\n",
        "for i in float_værdi:\n",
        "  print(i)"
      ],
      "metadata": {
        "id": "VSFsYhf0LTn4"
      },
      "execution_count": null,
      "outputs": []
    },
    {
      "cell_type": "markdown",
      "source": [
        "##Kopiering af lister\n",
        "\n",
        "Hvis man skal lave en kopi af en liste i python skal man anvende metoden .copy(). Ellers vil alle ændringerne ændringer i den nye liste også påvirke den gamle liste."
      ],
      "metadata": {
        "id": "lOyMuc2B-URx"
      }
    },
    {
      "cell_type": "code",
      "source": [
        "#oprindelig liste\n",
        "liste_o = [1,2,3,4,5]\n",
        "\n",
        "print('oprindelig liste:',liste_o)\n",
        "\n",
        "#ny liste fra den oprindelige. Gør IKKE det her!\n",
        "liste_n = liste_o\n",
        "print('ny liste:',liste_n)\n",
        "\n",
        "#nu ændres et element i den nye liste\n",
        "liste_n[0] = 10\n",
        "print('ny liste med ændring på indeks 0:',liste_n)\n",
        "\n",
        "#oprindelige liste efter ændring i ny liste\n",
        "print('oprindelig liste efter ændringer:',liste_o)\n",
        "\n",
        "\n"
      ],
      "metadata": {
        "id": "zJedfNJDAO7T"
      },
      "execution_count": null,
      "outputs": []
    },
    {
      "cell_type": "markdown",
      "source": [
        "Samme ide men nu med .copy()"
      ],
      "metadata": {
        "id": "lCHPbVKZBtR1"
      }
    },
    {
      "cell_type": "code",
      "source": [
        "#oprindelig liste\n",
        "liste_o = [1,2,3,4,5]\n",
        "\n",
        "print('oprindelig liste:',liste_o)\n",
        "\n",
        "#ny liste fra den oprindelige. gør det her istedet\n",
        "liste_n = liste_o.copy()\n",
        "print('ny liste:',liste_n)\n",
        "\n",
        "#ny ændres et element i den nye liste\n",
        "liste_n[0] = 10\n",
        "print('ny liste med ændring på indeks 0:',liste_n)\n",
        "\n",
        "#oprindelige liste efter ændring i ny liste\n",
        "print('oprindelig liste efter ændringer:',liste_o)"
      ],
      "metadata": {
        "id": "jgOiITYFB56C"
      },
      "execution_count": null,
      "outputs": []
    },
    {
      "cell_type": "markdown",
      "source": [
        "##Python range\n",
        "Range er en datatype, som definerer et inteval af numeriskere elementer i et givent interval. Der kan itereres over range objekter på samme måde som lister. Et range objekt oprettes med funktionen range(), som tager 2 eller 3 argumenter: start,stop,step.  "
      ],
      "metadata": {
        "id": "R4GepyIL9CZR"
      }
    },
    {
      "cell_type": "code",
      "source": [
        "interval = range(0,10)\n",
        "\n",
        "print('\"interval\" med step 1 = ',interval,'er af type',type(interval))\n",
        "\n",
        "for i in interval:\n",
        "  print(i)\n",
        "\n",
        "interval_2 = range(0,10,2)\n",
        "\n",
        "print('\"interval\" med step 2 = ',interval_2,'er af type',type(interval_2))\n",
        "\n",
        "for i in interval_2:\n",
        "  print(i)\n"
      ],
      "metadata": {
        "id": "4AKnTxf59naX"
      },
      "execution_count": null,
      "outputs": []
    },
    {
      "cell_type": "markdown",
      "source": [
        "Range kan også bruges direkte i initialiseringen af loop til at bestemme antallet af iterationer"
      ],
      "metadata": {
        "id": "ZqUZ_vdN-6DB"
      }
    },
    {
      "cell_type": "code",
      "source": [
        "for i in range(0,10,2):\n",
        "  print(i)\n"
      ],
      "metadata": {
        "id": "wYZGAcXGAe3A"
      },
      "execution_count": null,
      "outputs": []
    },
    {
      "cell_type": "markdown",
      "source": [
        "Range kan kun bruges til at generere integer intervaller. For at oprette intervaller med float værdier skal der bruges andre biblioteker ud over det indbyggede standard python bibliotek. Eksempelvis \"numpy\". Der kommer eksempler på brugen af dette senere.\n"
      ],
      "metadata": {
        "id": "YAizuHQLCc-M"
      }
    },
    {
      "cell_type": "code",
      "source": [
        "for i in range(0,10.,0.5):\n",
        "  print(i)\n",
        "\n"
      ],
      "metadata": {
        "id": "qywcdN_OCq5j"
      },
      "execution_count": null,
      "outputs": []
    },
    {
      "cell_type": "markdown",
      "source": [
        "##Python tuples\n",
        "En anden type \"immutable\" er tuples, der ligesom lister er sekvenser indeholdende elementer"
      ],
      "metadata": {
        "id": "ghKqDSH1LyQa"
      }
    },
    {
      "cell_type": "code",
      "source": [
        "tup_1 = (1,2,3)\n",
        "\n",
        "print('tup_1 = ',tup_1,'og er af type', type(tup_1))\n",
        "\n"
      ],
      "metadata": {
        "id": "ErmbcSMOMSCF"
      },
      "execution_count": null,
      "outputs": []
    },
    {
      "cell_type": "markdown",
      "source": [
        "Der kan itereres over elemnterne i en tuple ligesom i lister. Og elementerne kan tilgås med indeks nummer på samme måde som med lister. Tilgengæld kan der ikke tilføjes elementer. De er \"unchangable\" eller \"immutables\". Lister og tuples kan egentlig mange af de samme ting. Men tuples har visse fordele i forhold til hastighed. Forskellene lægger begravet lidt dybere end hvad der er nødvendigt at forstå, men handler bla. om hvordan henholdsvis \"list\" og \"tuple\" gemmes og tilgås i memory."
      ],
      "metadata": {
        "id": "fiZT_NVlM5_O"
      }
    },
    {
      "cell_type": "code",
      "source": [
        "for i in tup_1:\n",
        "  print(i)\n",
        "\n",
        "print('tup_1 index 0 = ',tup_1[0])\n"
      ],
      "metadata": {
        "id": "Zz2ZbqjtNR47"
      },
      "execution_count": null,
      "outputs": []
    },
    {
      "cell_type": "markdown",
      "source": [
        "##Python dictionaries\n",
        "\n",
        "En dictionary eller \"dict\" er en data type som mapper én værdi til noget andet. Såkaldte \"keys\" og \"values\". Eksemplet kunne være en dictionary som mapper byer/hovedstæder til de lande hvori de ligger.  "
      ],
      "metadata": {
        "id": "SgG7lLLkNeaQ"
      }
    },
    {
      "cell_type": "code",
      "source": [
        "hovedstæder = {'København':'Danmark', 'Stokholm':'Sverige','Oslo':'Norge'}\n",
        "\n",
        "print('hovedstæder = ',hovedstæder,'er af type',type(hovedstæder))"
      ],
      "metadata": {
        "id": "g_Gd54iHVfTe"
      },
      "execution_count": null,
      "outputs": []
    },
    {
      "cell_type": "markdown",
      "source": [
        "i dette eksempel og dictionary keys navnene på hovedstæderne, og values er navnet på det land hvori byen ligger."
      ],
      "metadata": {
        "id": "nJUjbjiOEM_F"
      }
    },
    {
      "cell_type": "code",
      "source": [
        "print('hovedstøder keys =',hovedstæder.keys())\n",
        "print('hovedstøder values =',hovedstæder.values())"
      ],
      "metadata": {
        "id": "lml34YzLEezu"
      },
      "execution_count": null,
      "outputs": []
    },
    {
      "cell_type": "markdown",
      "source": [
        "For at tilgå et bestemt element, eller \"value\" i dict objektet bruges den tilhørende \"key\""
      ],
      "metadata": {
        "id": "xNWAH9r3FdHF"
      }
    },
    {
      "cell_type": "code",
      "source": [
        "print('value for \"københavn\" =',hovedstæder['København'])"
      ],
      "metadata": {
        "id": "KE9L9_zRHHc-"
      },
      "execution_count": null,
      "outputs": []
    },
    {
      "cell_type": "markdown",
      "source": [
        "dicts er muttables og der kan tilføjes key,value par på følgende måde"
      ],
      "metadata": {
        "id": "AfeE1P-JJfj3"
      }
    },
    {
      "cell_type": "code",
      "source": [
        "hovedstæder['Helsinki'] = 'Finland'\n",
        "\n",
        "print('value for \"Helsinki\" =',hovedstæder['Helsinki'])"
      ],
      "metadata": {
        "id": "Ds-vmKY2Jz6i"
      },
      "execution_count": null,
      "outputs": []
    },
    {
      "cell_type": "markdown",
      "source": [
        "og value for en key kan ændres"
      ],
      "metadata": {
        "id": "Zhetbi6wLWei"
      }
    },
    {
      "cell_type": "code",
      "source": [
        "hovedstæder['Helsinki'] = 'Suomi'\n",
        "\n",
        "print('value for \"Helsinki\" =',hovedstæder['Helsinki'])"
      ],
      "metadata": {
        "id": "toha5VW_LvFq"
      },
      "execution_count": null,
      "outputs": []
    },
    {
      "cell_type": "markdown",
      "source": [
        "##Python bool\n",
        "python boolean types ('bool') holder True/False værdien for en variabel/statement. Og kan blandt andet bruges til at kontrollere flow i ens kode. \"False\" og 0 evaluere til det samme i python, og det samme gælder 'True' og 1"
      ],
      "metadata": {
        "id": "KrlVjNqnk2uY"
      }
    },
    {
      "cell_type": "code",
      "source": [
        "something = False\n",
        "\n",
        "print('something = ',something,'er af type',type(something))\n",
        "\n",
        "if something == False:\n",
        "  print('something =',something)\n",
        "  something = True\n",
        "\n",
        "if something == True:\n",
        "  print('something =',something)\n",
        "  something = False\n",
        "\n",
        "if something == 0:\n",
        "  print('something =',something)\n",
        "  something = True\n",
        "\n",
        "if something == 1:\n",
        "  print('something =',something)\n"
      ],
      "metadata": {
        "id": "3BCZp100mRXV"
      },
      "execution_count": null,
      "outputs": []
    },
    {
      "cell_type": "markdown",
      "source": [
        "Læg mærke til '==' som bruges til at sammenligne værdien af en variabel. == evaluerer til True hvis variablen og den værdi den sammenlignes med er den samme og False hvis ikke. Den omvendte sammenligning kan laves med '!='"
      ],
      "metadata": {
        "id": "R0rvM1sAoC7O"
      }
    },
    {
      "cell_type": "code",
      "source": [
        "something = False\n",
        "\n",
        "if something != True:\n",
        "  print('something =',something)\n",
        "  something = True\n",
        "\n",
        "if something != False:\n",
        "  print('something =',something)\n",
        "  something = False\n",
        "\n",
        "if something != 1:\n",
        "  print('something =',something)\n",
        "  something = True\n",
        "\n",
        "if something != 0:\n",
        "  print('something =',something)"
      ],
      "metadata": {
        "id": "xSX_MMYGpc7z"
      },
      "execution_count": null,
      "outputs": []
    },
    {
      "cell_type": "markdown",
      "source": [
        "##Værd at vide: string formatting\n",
        "\n",
        "Indtil videre i denne notebook er der printet en hel del outputs i form as strings hvor der er givet flere inputs til print funktionen for at genere hele tekstrengen til print. String formattering er en lidt mere elegant møde at genere strings som f.eks skal indholde værdien for en variable. Kan bruges alt efter smag og behag."
      ],
      "metadata": {
        "id": "z567avRQM0Zv"
      }
    },
    {
      "cell_type": "code",
      "source": [
        "hovedstæder['Helsinki'] = 'Suomi'\n",
        "\n",
        "print('value for \"Helsinki\" =',hovedstæder['Helsinki'])\n",
        "\n",
        "print(f'value for \"Helsinki\" = {hovedstæder[\"Helsinki\"]}')"
      ],
      "metadata": {
        "id": "-RHhl_elPFWM"
      },
      "execution_count": null,
      "outputs": []
    },
    {
      "cell_type": "markdown",
      "source": [
        "I eksemplet ovenfor gør det måske ikke den store forskel, men for længere tekststrenge kan det gøre koden mere overskuelig så der ikke er behov for komma separere argumenter til print funktionen. læg i øvrigt mærke til brugen af \" og '. Begge indikere et str objekt, men hvis man ville bruge citationstegn i en streng hvor der anvendes ' skal der bruges \". Og omvendt.  "
      ],
      "metadata": {
        "id": "QdL4G7CDPqJ-"
      }
    },
    {
      "cell_type": "code",
      "source": [
        "print(f'value for \"Helsinki\" = {hovedstæder[\"Helsinki\"]}. value for \"København\" = {hovedstæder[\"København\"]}. value for stokholm = {hovedstæder[\"Stokholm\"]}')"
      ],
      "metadata": {
        "id": "Strb8OhgPuQU"
      },
      "execution_count": null,
      "outputs": []
    },
    {
      "cell_type": "markdown",
      "source": [
        "##Værd at vide: list comprehension\n",
        "\n",
        "Med list comprehension kan det være hurtigere at iterere igennem lister, og lave opreationer på liste elementer.\n",
        "\n",
        "Der er nogle andre ting værd at lægge mærke til i koden nedenfor:\n",
        "\n",
        "1. \"import time\" importerer time bibliotektet som er en del af standard library.\n",
        "2. En liste genereres ud fra et range objekt som type castes til en list. I listen itereres der over alle elementerne vha. af range og len hvor range retunerer et range objekt med intervallet 0 - længden af listen givet af len()\n",
        "\n",
        "3. Antallet af decimaler i den floatværdi i tekstrengen som angiver løbetiden for koden begrænses til 5 vha. ':5f: i det stringformaterede output."
      ],
      "metadata": {
        "id": "2Y6-KLQVVg5a"
      }
    },
    {
      "cell_type": "code",
      "source": [
        "import time\n",
        "\n",
        "liste = list(range(0,10000000))\n",
        "\n",
        "print(f'første 10 elementer i liste = {liste[0:10]}')\n",
        "\n",
        "start_time_loop = time.time()\n",
        "\n",
        "for i in range(len(liste)):\n",
        "  liste[i] += 5\n",
        "\n",
        "end_time_loop = time.time()\n",
        "\n",
        "print(f'run time for \"for loop\" = {end_time_loop-start_time_loop:5f} sekunder')\n",
        "\n",
        "print(f'første 10 elementer i liste efter loop = {liste[0:10]}')\n",
        "\n",
        "liste = list(range(0,10000000))\n",
        "\n",
        "print(f'første 10 elementer i liste før list comprehension = {liste[0:10]}')\n",
        "\n",
        "start_time_comp = time.time()\n",
        "\n",
        "liste = [i + 5 for i in liste]\n",
        "\n",
        "end_time_comp = time.time()\n",
        "\n",
        "print(f'run time for list comprehension = {end_time_comp-start_time_comp:5f} sekunder')\n",
        "\n",
        "print(f'første 10 elementer i liste efter list comprehension = {liste[0:10]}')\n",
        "\n",
        "\n"
      ],
      "metadata": {
        "id": "VyUQ9MHvWNHS"
      },
      "execution_count": null,
      "outputs": []
    },
    {
      "cell_type": "markdown",
      "source": [
        "##Værd at vide: comments\n",
        "\n",
        "I python kan der indsættes kommentarer i koden som kan bruges til at beskrive hvad forskellige delelementer gør og/eller udkommentere kode som ikke skal køres af interpreteren  "
      ],
      "metadata": {
        "id": "7Lw82MAoeONa"
      }
    },
    {
      "cell_type": "code",
      "source": [
        "# <-Tegnet her bruges til at indsætte en enkelt linie med kommentar\n",
        "# og kan også bruges til at udkommentere enkelte kodelinier\n",
        "\n",
        "#print funktionen nedenfor printer den givne streng\n",
        "print('hello world')\n",
        "\n",
        "#mens printfunktionen nedenfor er udkommenteret og ikke bliver kørt\n",
        "#print('hej verden')\n",
        "\n",
        "\"\"\"\n",
        "Der kan også indsættes block kommentarer som omslutter flere linier\n",
        "som bliver ignoreret af interpreteren\n",
        "\"\"\"\n",
        "\n",
        "#kodeblokken nedenfor kører\n",
        "a = 5\n",
        "b = 10\n",
        "\n",
        "print('a*b =', a*b)\n",
        "\n",
        "# men blokken nedenfor ignoreres\n",
        "\n",
        "\"\"\"\n",
        "c = 2\n",
        "d = 3\n",
        "print('c*d =', c*d)\n",
        "\"\"\"\n",
        "\n"
      ],
      "metadata": {
        "id": "rJJoKfyYe90Y"
      },
      "execution_count": null,
      "outputs": []
    },
    {
      "cell_type": "markdown",
      "source": [
        "#Python functions\n",
        "\n",
        "I python er en funktion en kodeblok som er defineret ved et navn."
      ],
      "metadata": {
        "id": "9CBNaRaYdT3q"
      }
    },
    {
      "cell_type": "code",
      "source": [
        "#Funktion som printer en besked når den bliver kaldt\n",
        "\n",
        "def print_function():\n",
        "  print('jeg printer')\n",
        "\n",
        "print_function()"
      ],
      "metadata": {
        "id": "QmcwvJu8ryGG"
      },
      "execution_count": null,
      "outputs": []
    },
    {
      "cell_type": "markdown",
      "source": [
        "I definitionen kan der specificeres hvilke argumenter, hvis nogen, som funtionen skal kaldes med"
      ],
      "metadata": {
        "id": "MfPWnUAksVYV"
      }
    },
    {
      "cell_type": "code",
      "source": [
        "#Funktion som lægger to tal sammen og printer resultatet\n",
        "\n",
        "def multiplikation(a,b):\n",
        "  print(a*b)\n",
        "\n",
        "multiplikation(3,4)"
      ],
      "metadata": {
        "id": "_Vx90QvPsml7"
      },
      "execution_count": null,
      "outputs": []
    },
    {
      "cell_type": "markdown",
      "source": [
        "Argumenterne kan enten være positionale argumenter eller \"keyword\" argumenter. For positionale argumenter er rækkefølgenden hvor de angives i funktionskaldet vigtig, hvor for keyword argumenter gør rækkefølgen ingen forskel."
      ],
      "metadata": {
        "id": "p-Dc9RQ0tJTu"
      }
    },
    {
      "cell_type": "code",
      "source": [
        "#funktion med positionale argumenter som dividerer to værdier og printer resultatet\n",
        "\n",
        "def division(a,b):\n",
        "  print(a/b)\n",
        "\n",
        "division(3,4)\n",
        "\n",
        "division(4,3)"
      ],
      "metadata": {
        "id": "W6CSTb4-t4-3"
      },
      "execution_count": null,
      "outputs": []
    },
    {
      "cell_type": "code",
      "source": [
        "#funktion med keyword argumenter som dividerer to værdier og printer resultatet\n",
        "\n",
        "def division(a=3,b=4):\n",
        "  print(a/b)\n",
        "\n",
        "division()\n",
        "\n",
        "division(b=4,a=3)"
      ],
      "metadata": {
        "id": "8hHkgzQWuoXm"
      },
      "execution_count": null,
      "outputs": []
    },
    {
      "cell_type": "markdown",
      "source": [
        "keyword argumenter har som udgangspunkt den værdi som de har fået i funktionsdefinitionen, og denne værdi anvendes mm. en ny værdi er specificeret"
      ],
      "metadata": {
        "id": "p5UeXpZMv-Ul"
      }
    },
    {
      "cell_type": "code",
      "source": [
        "def division(a=3,b=4):\n",
        "  print(a/b)\n",
        "\n",
        "division()\n",
        "\n",
        "division(b=2)\n"
      ],
      "metadata": {
        "id": "lLlf8HnSwHWB"
      },
      "execution_count": null,
      "outputs": []
    },
    {
      "cell_type": "markdown",
      "source": [
        "Der kan obrettes et objekt fra en funktion som har samme funktionalitet som den oprindelige funktion"
      ],
      "metadata": {
        "id": "q1MYF392xEJh"
      }
    },
    {
      "cell_type": "code",
      "source": [
        "def division(a=3,b=4):\n",
        "  print(a/b)\n",
        "\n",
        "division(a=15,b=5)\n",
        "\n",
        "divisor = division\n",
        "\n",
        "divisor(a=15,b=5)"
      ],
      "metadata": {
        "id": "pVDRGt9GxS9C"
      },
      "execution_count": null,
      "outputs": []
    },
    {
      "cell_type": "markdown",
      "source": [
        "En funktion kan returnere en (eller flere) værdier"
      ],
      "metadata": {
        "id": "cdXR3A-0yn0_"
      }
    },
    {
      "cell_type": "code",
      "source": [
        "#funktion som lægger to tal sammen og returnerer resultatet\n",
        "\n",
        "def addition(a,b):\n",
        "  c = a+b\n",
        "  return c\n",
        "\n",
        "resultat = addition(6,4)\n",
        "\n",
        "print(resultat)"
      ],
      "metadata": {
        "id": "FSH1BxRizIDV"
      },
      "execution_count": null,
      "outputs": []
    },
    {
      "cell_type": "code",
      "source": [
        "#funktion som lægger to tal sammen, ganger et tredje tal på og returnerer mellem og endelige resultatet\n",
        "def addition_and_multiplikation(a,b,c):\n",
        "  ab = a+b\n",
        "  abc = ab*c\n",
        "  return ab,abc\n",
        "\n",
        "res1,res2 = addition_and_multiplikation(6,4,10)\n",
        "\n",
        "print(res1,res2)"
      ],
      "metadata": {
        "id": "mbyfmxBjz9Oj"
      },
      "execution_count": null,
      "outputs": []
    },
    {
      "cell_type": "code",
      "source": [
        "#funktion kunne også returnere værdierne i en tuple eller liste som holder begge værdier der bagefter kan pakkes ud\n",
        "def addition_and_multiplikation(a,b,c):\n",
        "  ab = a+b\n",
        "  abc = ab*c\n",
        "  return (ab,abc)\n",
        "\n",
        "resultat = addition_and_multiplikation(6,4,10)\n",
        "\n",
        "print(resultat[0],resultat[1])"
      ],
      "metadata": {
        "id": "Brcaxlu_01qv"
      },
      "execution_count": null,
      "outputs": []
    },
    {
      "cell_type": "markdown",
      "source": [
        "##Python klasser\n",
        "python er et objekt-orienteret programmeringssprog hvilket også fremgår af alle datatyperne som er gennemgået ovenfor. dvs en hver interger, liste, dictionary osv. er en instans er de respektive klasser: 'int', 'list' og 'dict' som alle har deres særlige metoder såsom list.append(), dict.keys() og osv.\n",
        "\n",
        "I Python defineres klasser med keyworded \"class\" ligesom en funktion defineres med keyworded \"def\".\n",
        "\n",
        "Den grundlæggende måde at defininere en klasse er skrevet nedenfor,"
      ],
      "metadata": {
        "id": "ewN2fxE-3ilI"
      }
    },
    {
      "cell_type": "code",
      "source": [
        "class new_class:\n",
        "\n",
        "    # class variables: bundet til klassen. Er det samme for alle instanser af klassen\n",
        "    class_name = 'eksample class'\n",
        "\n",
        "    def __init__(self, var_1, var_2, var_3):\n",
        "        # data members (instance variables): unikke for instanser af klasse\n",
        "        self.var_1 = var_1\n",
        "        self.var_2 = var_2\n",
        "        self.var_3 = var_3\n",
        "\n",
        "    # Behavior (instance methods)\n",
        "    def show_vars(self):\n",
        "        print('var_1:', self.var_1)\n",
        "        print('var_2:', self.var_2)\n",
        "        print('var_3:', self.var_3)\n",
        "\n",
        "    # Behavior (instance methods)\n",
        "    def vars_to_list(self):\n",
        "        var_list = [self.var_1,self.var_2,self.var_3]\n",
        "        print('instance variables:',var_list)\n",
        "\n",
        "\n"
      ],
      "metadata": {
        "id": "eks-kqJlHwsZ"
      },
      "execution_count": null,
      "outputs": []
    },
    {
      "cell_type": "markdown",
      "source": [
        "Instanser (eller klasse objekter) kan oprettes ud fra den nydefinerede klasse"
      ],
      "metadata": {
        "id": "HE6hl3rgL4SF"
      }
    },
    {
      "cell_type": "code",
      "source": [
        "klasse_instans_1 = new_class(1,'something',list(range(0,10)))\n",
        "\n",
        "print('klasse_instans_1 navn:',klasse_instans_1.class_name)\n",
        "\n",
        "klasse_instans_1.show_vars()\n",
        "\n",
        "klasse_instans_1.vars_to_list()\n",
        "\n",
        "print('')\n",
        "\n",
        "klasse_instans_2 = new_class(2,'something else',list(range(10,20)))\n",
        "\n",
        "print('klasse_instans_2 navn:',klasse_instans_2.class_name)\n",
        "\n",
        "klasse_instans_2.show_vars()\n",
        "\n",
        "klasse_instans_2.vars_to_list()"
      ],
      "metadata": {
        "id": "8CRhtBZjMAsz"
      },
      "execution_count": null,
      "outputs": []
    },
    {
      "cell_type": "markdown",
      "source": [
        "##Eksempel: (simpel) Lommeregner klasse\n"
      ],
      "metadata": {
        "id": "gdi-783GNvkL"
      }
    },
    {
      "cell_type": "code",
      "source": [
        "class calculator:\n",
        "\n",
        "    def __init__(self):\n",
        "        \"\"\"\n",
        "        instance variables: memory liste til at\n",
        "        holde resultater fra mellemregninger\n",
        "        \"\"\"\n",
        "        self.memory = [0]\n",
        "    \"\"\"\n",
        "    Behavior (instance methods)\n",
        "    udfører den matematiske opration med input værdien og sidste værdi i listen\n",
        "    hvis kun en enkelt værdi angives og indsætter resultatet i memory listen\n",
        "    ellers udføres operation på de to input og resultatet indsættes i memory\n",
        "    \"\"\"\n",
        "    #lægger to tal sammen\n",
        "    def add(self,num1,num2=None):\n",
        "\n",
        "      if num2 == None:\n",
        "        print('add:',self.memory[-1]+num1)\n",
        "        self.memory.append(self.memory[-1]+num1)\n",
        "      else:\n",
        "        print('add:',num1+num2)\n",
        "        self.memory.append(num1+num2)\n",
        "\n",
        "    #trækker to tal fra hinanden\n",
        "    def sub(self,num1,num2=None):\n",
        "      if num2 == None:\n",
        "        print('sub:',self.memory[-1]-num1)\n",
        "        self.memory.append(self.memory[-1]-num1)\n",
        "      else:\n",
        "        print('sub:',num1-num2)\n",
        "        self.memory.append(num1-num2)\n",
        "\n",
        "    #ganger to tal på hinanden\n",
        "    def mul(self,num1,num2=None):\n",
        "      if num2 == None:\n",
        "        print('mul:',self.memory[-1]*num1)\n",
        "        self.memory.append(self.memory[-1]*num1)\n",
        "      else:\n",
        "        print('mul:',num1*num2)\n",
        "        self.memory.append(num1*num2)\n",
        "\n",
        "    def div(self,num1,num2=None):\n",
        "      if num2 == None:\n",
        "        print('div:',self.memory[-1]/num1)\n",
        "        self.memory.append(self.memory[-1]/num1)\n",
        "      else:\n",
        "        print('div:',num1/num2)\n",
        "        self.memory.append(num1/num2)\n",
        "\n",
        "    def exp(self,num1,num2=None):\n",
        "      if num2 == None:\n",
        "        print('exp:',self.memory[-1]**num1)\n",
        "        self.memory.append(self.memory[-1]**num1)\n",
        "      else:\n",
        "        print('exp:',num1**num2)\n",
        "        self.memory.append(num1**num2)\n",
        "\n",
        "    #returnerer værdi fra memory baseret på det givne index\n",
        "    def ret(self,index=-1):\n",
        "      del self.memory[index:]\n",
        "      print('ret:',self.memory[-1])\n",
        "\n",
        "    #sletter værdien på det sidste index i memory\n",
        "    def clear(self):\n",
        "      self.memory.pop(-1)\n",
        "      print('clear:',self.memory[-1])\n",
        "\n",
        "    #reseter listen til den oprindlige memory liste\n",
        "    def aclear(self):\n",
        "      self.memory=[0]\n",
        "      print('aclear:',self.memory[-1])\n",
        "\n",
        "\n",
        "\n",
        "\n"
      ],
      "metadata": {
        "id": "8Lyb4TNnMjQ-"
      },
      "execution_count": null,
      "outputs": []
    },
    {
      "cell_type": "markdown",
      "source": [
        "Så lad os prøve den nye geniale lommeregner af"
      ],
      "metadata": {
        "id": "vIvI9kFYb3a0"
      }
    },
    {
      "cell_type": "code",
      "source": [
        "calc = calculator()\n",
        "\n",
        "calc.add(5,5)\n",
        "\n",
        "calc.mul(5)\n",
        "\n",
        "calc.div(20,2)\n",
        "\n",
        "calc.exp(2)\n",
        "\n",
        "calc.clear()\n",
        "\n",
        "calc.exp(3,5)\n",
        "\n",
        "calc.ret(-1)\n",
        "\n",
        "print('Memory: ',calc.memory)\n",
        "\n",
        "calc.aclear()\n",
        "\n",
        "print('Memory: ',calc.memory)\n"
      ],
      "metadata": {
        "id": "DSIdEctVb-uP"
      },
      "execution_count": null,
      "outputs": []
    }
  ]
}